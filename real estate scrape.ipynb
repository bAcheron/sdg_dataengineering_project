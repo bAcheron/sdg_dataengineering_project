{
 "cells": [
  {
   "cell_type": "code",
   "execution_count": 60,
   "metadata": {},
   "outputs": [],
   "source": [
    "# Packages needed for scraping and extracting\n",
    "import requests\n",
    "from bs4 import BeautifulSoup\n",
    "import re\n",
    "\n",
    "def average_price(state, city):\n",
    "    url = f\"https://www.zillow.com/{city}-{state}/rentals/\"\n",
    "    print(url)\n",
    "    # Making the request look like a normal browser\n",
    "    headers = {'User-Agent': 'Mozilla/2.0 (Windows NT 6.1; WOW64; rv:20.0) Gecko/20100101 Firefox/20.0'}\n",
    "#     headers = {'User-Agent': 'Mozilla/3.0 (Windows NT 6.1; WOW64) AppleWebKit/536.36 (KHTML, like Gecko) Chrome/54.0.2924.76 Safari/537.36'} \n",
    "\n",
    "    # Requesting the sites content\n",
    "    page = requests.get(url,headers=headers)\n",
    "    soup = BeautifulSoup(page.content, \"html.parser\")\n",
    "    # Getting the relevant links\n",
    "\n",
    "    links_html = soup.find_all('div', class_='list-card-price')\n",
    "    prices = []\n",
    "    for x in range(len(links_html)):\n",
    "        price = links_html[x].text.split()\n",
    "        print(price[0])\n",
    "        numeric = [s for s in price[0] if s.isdigit()]\n",
    "        numeric = int(''.join(numeric))\n",
    "        prices.append(numeric)\n",
    "        print(numeric)\n",
    "\n",
    "    return sum(prices)/len(prices)\n",
    "\n",
    "average_price('ga', 'woodstock')"
   ]
  },
  {
   "cell_type": "code",
   "execution_count": null,
   "metadata": {},
   "outputs": [],
   "source": []
  },
  {
   "cell_type": "code",
   "execution_count": 61,
   "metadata": {},
   "outputs": [],
   "source": []
  },
  {
   "cell_type": "code",
   "execution_count": null,
   "metadata": {},
   "outputs": [],
   "source": []
  },
  {
   "cell_type": "code",
   "execution_count": null,
   "metadata": {},
   "outputs": [],
   "source": []
  },
  {
   "cell_type": "code",
   "execution_count": null,
   "metadata": {},
   "outputs": [],
   "source": []
  },
  {
   "cell_type": "code",
   "execution_count": null,
   "metadata": {},
   "outputs": [],
   "source": []
  },
  {
   "cell_type": "code",
   "execution_count": null,
   "metadata": {},
   "outputs": [],
   "source": []
  },
  {
   "cell_type": "code",
   "execution_count": null,
   "metadata": {},
   "outputs": [],
   "source": []
  },
  {
   "cell_type": "code",
   "execution_count": null,
   "metadata": {},
   "outputs": [],
   "source": []
  },
  {
   "cell_type": "code",
   "execution_count": null,
   "metadata": {},
   "outputs": [],
   "source": []
  }
 ],
 "metadata": {
  "kernelspec": {
   "display_name": "Python 3",
   "language": "python",
   "name": "python3"
  },
  "language_info": {
   "codemirror_mode": {
    "name": "ipython",
    "version": 3
   },
   "file_extension": ".py",
   "mimetype": "text/x-python",
   "name": "python",
   "nbconvert_exporter": "python",
   "pygments_lexer": "ipython3",
   "version": "3.7.3"
  }
 },
 "nbformat": 4,
 "nbformat_minor": 2
}
